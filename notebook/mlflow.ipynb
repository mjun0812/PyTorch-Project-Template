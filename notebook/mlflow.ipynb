{
 "cells": [
  {
   "cell_type": "code",
   "execution_count": 1,
   "id": "a308eec9-a931-48d2-b5b2-c3433f590baf",
   "metadata": {},
   "outputs": [],
   "source": [
    "import os\n",
    "from pathlib import Path\n",
    "\n",
    "import mlflow\n",
    "import pandas as pd\n",
    "import yaml\n",
    "from dotenv import load_dotenv\n",
    "\n",
    "os.environ[\"MLFLOW_ENABLE_ARTIFACTS_PROGRESS_BAR\"] = \"false\"\n",
    "load_dotenv(\"../.env\")\n",
    "\n",
    "TEMP_DIR = \"./.tmp\""
   ]
  },
  {
   "cell_type": "code",
   "execution_count": null,
   "id": "2be1d575-0537-4feb-b9e9-0bc4a036bda8",
   "metadata": {},
   "outputs": [],
   "source": [
    "Path(TEMP_DIR).mkdir(exist_ok=True, parents=True)\n",
    "mlflow_uri = os.getenv(\"MLFLOW_TRACKING_URI\", \"./result/mlruns\")\n",
    "mlflow.set_tracking_uri(mlflow_uri)\n",
    "\n",
    "with open(\"../config/__base__/config.yaml\", \"r\") as f:\n",
    "    cfg = yaml.safe_load(f)\n",
    "experiment_name = cfg[\"mlflow\"][\"experiment_name\"]\n",
    "print(f\"Experiment: {experiment_name}\")\n",
    "\n",
    "client = mlflow.tracking.MlflowClient()\n",
    "experiment_id = client.get_experiment_by_name(experiment_name).experiment_id\n",
    "\n",
    "options = dict(experiment_ids=experiment_id, filter_string=\"status='FINISHED\")\n",
    "runs = client.search_runs(**options)"
   ]
  },
  {
   "cell_type": "code",
   "execution_count": 34,
   "id": "658badc8-2cf6-4f82-adc8-e1f46008a025",
   "metadata": {},
   "outputs": [],
   "source": [
    "results = []\n",
    "for run in runs:\n",
    "    metrics = {}\n",
    "    run_name = run.info.run_name\n",
    "    params = run.data.params\n",
    "    metrics[\"model\"] = params[\"Model\"]\n",
    "    metrics[\"loss\"] = params[\"Loss\"]\n",
    "    metrics[\"dataset\"] = params[\"Train_Dataset\"]\n",
    "    metrics[\"tag\"] = run.data.tags.get(\"tag\")\n",
    "    if \"v2\" not in metrics[\"dataset\"]:\n",
    "        continue\n",
    "    for k, v in run.data.metrics.items():\n",
    "        if \"system/\" in k or \"Epoch\" in k or \"loss\" in k or \"Learning\" in k or \"val\" in k:\n",
    "            continue\n",
    "        elif \"error_2d\" in k:\n",
    "            continue\n",
    "        metrics[k] = v\n",
    "    results.append(metrics)\n"
   ]
  },
  {
   "cell_type": "code",
   "execution_count": null,
   "id": "e1f1951d-1ac6-4242-bf8c-3ab27764ffcb",
   "metadata": {},
   "outputs": [],
   "source": [
    "df = pd.DataFrame(results).sort_values([\"dataset\", \"model\"])\n",
    "df[\"dataset\"] = df[\"dataset\"].replace(\"model\", \"モデル\")\n",
    "df"
   ]
  },
  {
   "cell_type": "code",
   "execution_count": null,
   "id": "bb4be60f-2413-4c18-abfc-79aa0a04ed2c",
   "metadata": {},
   "outputs": [],
   "source": [
    "df = df.drop(['model', 'loss', 'fps_test', 'Speed/ms_test'], axis=1)\n",
    "df"
   ]
  },
  {
   "cell_type": "code",
   "execution_count": null,
   "id": "c55cd5df-7731-4c52-9916-c907bb523556",
   "metadata": {
    "scrolled": true
   },
   "outputs": [],
   "source": [
    "print(df.to_markdown(index=False))"
   ]
  }
 ],
 "metadata": {
  "kernelspec": {
   "display_name": "Python 3 (ipykernel)",
   "language": "python",
   "name": "python3"
  },
  "language_info": {
   "codemirror_mode": {
    "name": "ipython",
    "version": 3
   },
   "file_extension": ".py",
   "mimetype": "text/x-python",
   "name": "python",
   "nbconvert_exporter": "python",
   "pygments_lexer": "ipython3",
   "version": "3.11.9"
  }
 },
 "nbformat": 4,
 "nbformat_minor": 5
}
